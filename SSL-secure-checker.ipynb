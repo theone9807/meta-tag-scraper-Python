import requests
from bs4 import BeautifulSoup as bs
import re

url = "https://matlabhelpers.com/"
page = requests.get(url)
soup = bs(page.content , 'html.parser')
#head = soup.find('head')

#SSL secure

ssl = soup.find(attrs={"rel": re.compile(r'canonical', re.I)}) 
#     ssl['href']
if re.search('(https:)', ssl['href']):
    print('SSL Secure!!!')
else:
    print('Bad news your website is not SSL secure')


#similarly you can do for all meta tags 
